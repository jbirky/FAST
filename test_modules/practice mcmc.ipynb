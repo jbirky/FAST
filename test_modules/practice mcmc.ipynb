{
 "cells": [
  {
   "cell_type": "code",
   "execution_count": 1,
   "metadata": {},
   "outputs": [
    {
     "name": "stderr",
     "output_type": "stream",
     "text": [
      "/home/jess/anaconda3/lib/python3.6/site-packages/h5py/__init__.py:34: FutureWarning: Conversion of the second argument of issubdtype from `float` to `np.floating` is deprecated. In future, it will be treated as `np.float64 == np.dtype(float).type`.\n",
      "  from ._conv import register_converters as _register_converters\n"
     ]
    }
   ],
   "source": [
    "import numpy as np\n",
    "import pandas as pd\n",
    "import apogee_tools as ap\n",
    "import emcee"
   ]
  },
  {
   "cell_type": "code",
   "execution_count": 2,
   "metadata": {
    "collapsed": true
   },
   "outputs": [],
   "source": [
    "def makeModel(**kwargs):\n",
    "\n",
    "    params = kwargs.get('params')\n",
    "    fiber  = kwargs.get('fiber', 40)\n",
    "    plot   = kwargs.get('plot', False)\n",
    "    res    = kwargs.get('res', '300k')\n",
    "    grid   = kwargs.get('grid', 'phoenix').lower()\n",
    "\n",
    "    mdl_name = r'Teff = {}, logg = {}, Fe/H = {}, vsini = {}, rv = {}, $\\alpha$ = {}'.format(params['teff'], params['logg'], params['z'], params['vsini'], params['rv'], params['alpha'])\n",
    "    labels = [params['teff'], params['logg'], params['z']]\n",
    "\n",
    "    #Interpolate model grids at give teff, logg, fe/h\n",
    "    interp_sp = ap.interpolateGrid(labels=labels, res=res, grid=grid)\n",
    "    interp_sp.flux = interp_sp.flux/max(interp_sp.flux)\n",
    "\n",
    "    #Apply radial velocity\n",
    "    rv_sp   = ap.spec_tools.rvShiftSpec(interp_sp, rv=params['rv'])\n",
    "\n",
    "    #Apply rotational velocity broadening\n",
    "    rot_sp  = ap.applyVsini(rv_sp, vsini=params['vsini'])\n",
    "\n",
    "    #Apply telluric spectrum\n",
    "    tell_sp = ap.applyTelluric(rot_sp, alpha=params['alpha'])\n",
    "\n",
    "    #Apply APOGEE LSF function\n",
    "    lsf_sp  = ap.convolveLsf(tell_sp, fiber=fiber)\n",
    "\n",
    "    synth_model = ap.Spectrum(wave=lsf_sp.wave, flux=lsf_sp.flux, name=mdl_name)\n",
    "\n",
    "    return synth_model"
   ]
  },
  {
   "cell_type": "code",
   "execution_count": null,
   "metadata": {
    "collapsed": true
   },
   "outputs": [],
   "source": [
    "def lnprior(model):\n",
    "\n",
    "    teff, logg,  fe_h, rv, vsini = model.theta  #parameters should be arranged in this manner\n",
    "    \n",
    "    if  (prior[\"teff\"][0] < teff < 4000) and (3.0 < logg  < 6.0) \\\n",
    "    and (-2.0 < fe_h < 2.0) and (-50.0< rv < 50.0) \\\n",
    "    and (0 < vsini < 20):\n",
    "        return 0.0\n",
    "    return -np.inf"
   ]
  },
  {
   "cell_type": "code",
   "execution_count": null,
   "metadata": {
    "collapsed": true
   },
   "outputs": [],
   "source": [
    "def run_MCMC(**kwargs):\n",
    "    \"\"\"\n",
    "    MCMC run using EMCEE\n",
    "    params: model (must have a chi-square and a list of parameters)\n",
    "    \n",
    "    optional params: \n",
    "    first guess: guess\n",
    "    nwalkers: number of walkers\n",
    "    nsamples: number of runs default: 10000\n",
    "    \n",
    "    \"\"\"\n",
    "    #model to use for initial guess if not given\n",
    "    guess_model = kwargs.get('guess_model', ToyModel())\n",
    "    guess = kwargs.get('guess', guess_model.theta)\n",
    "    params = np.array(guess)\n",
    "    \n",
    "    #noise=kwargs.get('noise', spectrum.noise.value)\n",
    "    ndim=len(model.theta)\n",
    "    nwalkers=kwargs.get('nwalkers', 10)\n",
    "    nsamples=kwargs.get('nsamples', 1000)\n",
    "    \n",
    "    #make the first guess the same for all walkers with some random number added\n",
    "    p0=[guess for n in range(0,nwalkers)]\n",
    "    for n in range(1, nwalkers):\n",
    "        p0[n]=[p+ np.random.random(1)[0]*0.0001*p for p in params]\n",
    "    \n",
    "    print (\"walkers {} initial guess for each walker {} samples {}\".format(nwalkers, p0, nsamples))\n",
    "\n",
    "    \n",
    "    #make this a numpy array\n",
    "    p0= np.array(p0)\n",
    "        \n",
    "    #emcee sampler object\n",
    "    sampler = emcee.EnsembleSampler(nwalkers, ndim, lnlike)\n",
    "    \n",
    "    #run the MCMC \n",
    "    ps, lnps, rstate= sampler.run_mcmc(p0,nsamples)\n",
    "    \n",
    "    #get the posteriors\n",
    "    samples = sampler.chain.reshape((-1, ndim))\n",
    "    \n",
    "    #get mean parameters\n",
    "    pmean=[np.nanmean((samples.T)[i]) for i in range(0, ndim)]\n",
    "    #get standard deviations\n",
    "    pstd=[np.nanstd((samples.T)[i]) for i in range(0, ndim)]\n",
    "    \n",
    "    #pf= [np.mean(((samples.T)[i])[-10:]) for i in range(0, ndim)]\n",
    "    \n",
    "    #visualization \n",
    "    param_names=['teff', 'logg',  'fe_h', 'rv', 'vsini']\n",
    "    #std keys\n",
    "    param_er_names=['teff_er', 'logg_er',  'fe_h_er', 'rv_er', 'vsini_er']\n",
    "    \n",
    "      \n",
    "    if kwargs.get('show_corner', True):\n",
    "        plt.figure()\n",
    "        fig = corner.corner(samples, labels=param_names)\n",
    "        plt.show()\n",
    "        \n",
    "        plt.figure()\n",
    "        fig, ax = plt.subplots(ndim, sharex=True, figsize=(12, 6))\n",
    "        for i in range(ndim):\n",
    "            ax[i].plot(sampler.chain[:, :, i].T, '-k', alpha=0.2)\n",
    "        fig.show()\n",
    "    \n",
    "    return samples, dict(zip(param_names, pmean)), dict(zip(param_er_names, pstd))"
   ]
  },
  {
   "cell_type": "code",
   "execution_count": 6,
   "metadata": {},
   "outputs": [
    {
     "data": {
      "text/plain": [
       "False"
      ]
     },
     "execution_count": 6,
     "metadata": {},
     "output_type": "execute_result"
    }
   ],
   "source": [
    "k = np.array([1,2,3])\n",
    "type(k) == 'np.ndarray'"
   ]
  },
  {
   "cell_type": "code",
   "execution_count": null,
   "metadata": {
    "collapsed": true
   },
   "outputs": [],
   "source": []
  }
 ],
 "metadata": {
  "kernelspec": {
   "display_name": "Python 3",
   "language": "python",
   "name": "python3"
  },
  "language_info": {
   "codemirror_mode": {
    "name": "ipython",
    "version": 3
   },
   "file_extension": ".py",
   "mimetype": "text/x-python",
   "name": "python",
   "nbconvert_exporter": "python",
   "pygments_lexer": "ipython3",
   "version": "3.6.3"
  }
 },
 "nbformat": 4,
 "nbformat_minor": 2
}
